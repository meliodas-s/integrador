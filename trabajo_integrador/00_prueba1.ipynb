{
 "cells": [
  {
   "cell_type": "markdown",
   "metadata": {},
   "source": [
    "#### Predimensionado"
   ]
  },
  {
   "cell_type": "code",
   "execution_count": 1,
   "metadata": {},
   "outputs": [],
   "source": [
    "from barriga.modu import Rock\n",
    "import matplotlib.pyplot as plt\n",
    "from plottable import Table\n",
    "import pandas as pd\n",
    "import copy"
   ]
  },
  {
   "cell_type": "code",
   "execution_count": 2,
   "metadata": {},
   "outputs": [],
   "source": [
    "# Fuerzas\n",
    "inc = [\n",
    "\n",
    "\n",
    "    # 1\n",
    "    [5, True],\n",
    "\n",
    "    # 2\n",
    "    [0, True],\n",
    "\n",
    "    # 3\n",
    "    [0, True],\n",
    "\n",
    "    # 4\n",
    "    [0, True],\n",
    "\n",
    "    # 5\n",
    "    [0, True],\n",
    "\n",
    "    # 6\n",
    "    [0, False],\n",
    "\n",
    "    # 7\n",
    "    [0, False],\n",
    "\n",
    "    # 8\n",
    "    [0, False],\n",
    "\n",
    "    # 9\n",
    "    [0, False],\n",
    "]\n",
    "\n",
    "# bar,noi,nof,are,mod,iner (pulg, kip)\n",
    "iba = [\n",
    "    [1, 1, 2, 10, 29e3, 500],\n",
    "    [2, 2, 3, 10, 29e3, 500]\n",
    "]\n",
    "\n",
    "# nod,imn,ifx,ify,cox,coy\n",
    "ino = [\n",
    "    [1, 5, 4, 6, 0, 20*12],\n",
    "    [2, 3, 1, 2, 20*12, 20*12],\n",
    "    [3, 9, 7, 8, 20*12, 0]\n",
    "]"
   ]
  },
  {
   "cell_type": "code",
   "execution_count": 3,
   "metadata": {},
   "outputs": [
    {
     "name": "stdout",
     "output_type": "stream",
     "text": [
      "\n",
      "\u001b[1;32m\n",
      "Matriz de rigidez\n",
      "\u001b[0m\n"
     ]
    },
    {
     "data": {
      "text/latex": [
       "$\\displaystyle \\left[\\begin{matrix}1220.9 & 0 & 1510.4 & -1208.3 & 0 & 0 & -12.587 & 0 & 1510.4\\\\0 & 1220.9 & -1510.4 & 0 & -1510.4 & -12.587 & 0 & -1208.3 & 0\\\\1510.4 & -1510.4 & 4.8333 \\cdot 10^{5} & 0 & 1.2083 \\cdot 10^{5} & 1510.4 & -1510.4 & 0 & 1.2083 \\cdot 10^{5}\\\\-1208.3 & 0 & 0 & 1208.3 & 0 & 0 & 0 & 0 & 0\\\\0 & -1510.4 & 1.2083 \\cdot 10^{5} & 0 & 2.4167 \\cdot 10^{5} & 1510.4 & 0 & 0 & 0\\\\0 & -12.587 & 1510.4 & 0 & 1510.4 & 12.587 & 0 & 0 & 0\\\\-12.587 & 0 & -1510.4 & 0 & 0 & 0 & 12.587 & 0 & -1510.4\\\\0 & -1208.3 & 0 & 0 & 0 & 0 & 0 & 1208.3 & 0\\\\1510.4 & 0 & 1.2083 \\cdot 10^{5} & 0 & 0 & 0 & -1510.4 & 0 & 2.4167 \\cdot 10^{5}\\end{matrix}\\right]$"
      ],
      "text/plain": [
       "Matrix([\n",
       "[ 1220.9,       0,    1510.4, -1208.3,         0,       0, -12.587,       0,    1510.4],\n",
       "[      0,  1220.9,   -1510.4,       0,   -1510.4, -12.587,       0, -1208.3,         0],\n",
       "[ 1510.4, -1510.4, 4.8333e+5,       0, 1.2083e+5,  1510.4, -1510.4,       0, 1.2083e+5],\n",
       "[-1208.3,       0,         0,  1208.3,         0,       0,       0,       0,         0],\n",
       "[      0, -1510.4, 1.2083e+5,       0, 2.4167e+5,  1510.4,       0,       0,         0],\n",
       "[      0, -12.587,    1510.4,       0,    1510.4,  12.587,       0,       0,         0],\n",
       "[-12.587,       0,   -1510.4,       0,         0,       0,  12.587,       0,   -1510.4],\n",
       "[      0, -1208.3,         0,       0,         0,       0,       0,  1208.3,         0],\n",
       "[ 1510.4,       0, 1.2083e+5,       0,         0,       0, -1510.4,       0, 2.4167e+5]])"
      ]
     },
     "metadata": {},
     "output_type": "display_data"
    },
    {
     "name": "stdout",
     "output_type": "stream",
     "text": [
      "\n",
      "\u001b[1;32m\n",
      "Matriz de desplazamiento:\n",
      "\u001b[0m\n"
     ]
    },
    {
     "data": {
      "text/latex": [
       "$\\displaystyle \\left[\\begin{matrix}D_{1}\\\\D_{2}\\\\D_{3}\\\\D_{4}\\\\D_{5}\\\\0\\\\0\\\\0\\\\0\\end{matrix}\\right]$"
      ],
      "text/plain": [
       "Matrix([\n",
       "[D_1],\n",
       "[D_2],\n",
       "[D_3],\n",
       "[D_4],\n",
       "[D_5],\n",
       "[  0],\n",
       "[  0],\n",
       "[  0],\n",
       "[  0]])"
      ]
     },
     "metadata": {},
     "output_type": "display_data"
    },
    {
     "name": "stdout",
     "output_type": "stream",
     "text": [
      "\n",
      "\u001b[1;32m\n",
      "Soluciones:\n",
      "\u001b[0m\n"
     ]
    },
    {
     "data": {
      "text/latex": [
       "$\\displaystyle \\left[\\begin{matrix}D_{1}\\\\D_{2}\\\\D_{3}\\\\D_{4}\\\\D_{5}\\\\Q_{6}\\\\Q_{7}\\\\Q_{8}\\\\Q_{9}\\end{matrix}\\right] = \\left[\\begin{matrix}0.695753931751978\\\\-0.00155071455813964\\\\-0.00248760460368232\\\\0.695753931751978\\\\0.00123411033585278\\\\-1.8737800910854\\\\-4.99999999999694\\\\1.87378009108539\\\\750.292778138773\\end{matrix}\\right]$"
      ],
      "text/plain": [
       "Eq(Matrix([\n",
       "[D_1],\n",
       "[D_2],\n",
       "[D_3],\n",
       "[D_4],\n",
       "[D_5],\n",
       "[Q_6],\n",
       "[Q_7],\n",
       "[Q_8],\n",
       "[Q_9]]), Matrix([\n",
       "[   0.695753931751978],\n",
       "[-0.00155071455813964],\n",
       "[-0.00248760460368232],\n",
       "[   0.695753931751978],\n",
       "[ 0.00123411033585278],\n",
       "[    -1.8737800910854],\n",
       "[   -4.99999999999694],\n",
       "[    1.87378009108539],\n",
       "[    750.292778138773]]))"
      ]
     },
     "metadata": {},
     "output_type": "display_data"
    },
    {
     "name": "stdout",
     "output_type": "stream",
     "text": [
      "\n",
      "\u001b[1;32m\n",
      "Fuerza en barra 1\n",
      "\u001b[0m\n"
     ]
    },
    {
     "data": {
      "text/html": [
       "<div>\n",
       "<style scoped>\n",
       "    .dataframe tbody tr th:only-of-type {\n",
       "        vertical-align: middle;\n",
       "    }\n",
       "\n",
       "    .dataframe tbody tr th {\n",
       "        vertical-align: top;\n",
       "    }\n",
       "\n",
       "    .dataframe thead th {\n",
       "        text-align: right;\n",
       "    }\n",
       "</style>\n",
       "<table border=\"1\" class=\"dataframe\">\n",
       "  <thead>\n",
       "    <tr style=\"text-align: right;\">\n",
       "      <th></th>\n",
       "      <th>1</th>\n",
       "    </tr>\n",
       "  </thead>\n",
       "  <tbody>\n",
       "    <tr>\n",
       "      <th>4</th>\n",
       "      <td>0</td>\n",
       "    </tr>\n",
       "    <tr>\n",
       "      <th>6</th>\n",
       "      <td>-1.87378009108539</td>\n",
       "    </tr>\n",
       "    <tr>\n",
       "      <th>5</th>\n",
       "      <td>-1.25055521493778e-12</td>\n",
       "    </tr>\n",
       "    <tr>\n",
       "      <th>1</th>\n",
       "      <td>0</td>\n",
       "    </tr>\n",
       "    <tr>\n",
       "      <th>2</th>\n",
       "      <td>1.87378009108539</td>\n",
       "    </tr>\n",
       "    <tr>\n",
       "      <th>3</th>\n",
       "      <td>-449.707221860493</td>\n",
       "    </tr>\n",
       "  </tbody>\n",
       "</table>\n",
       "</div>"
      ],
      "text/plain": [
       "                       1\n",
       "4                      0\n",
       "6      -1.87378009108539\n",
       "5  -1.25055521493778e-12\n",
       "1                      0\n",
       "2       1.87378009108539\n",
       "3      -449.707221860493"
      ]
     },
     "metadata": {},
     "output_type": "display_data"
    },
    {
     "name": "stdout",
     "output_type": "stream",
     "text": [
      "\n",
      "\u001b[1;32m\n",
      "Fuerza en barra 2\n",
      "\u001b[0m\n"
     ]
    },
    {
     "data": {
      "text/html": [
       "<div>\n",
       "<style scoped>\n",
       "    .dataframe tbody tr th:only-of-type {\n",
       "        vertical-align: middle;\n",
       "    }\n",
       "\n",
       "    .dataframe tbody tr th {\n",
       "        vertical-align: top;\n",
       "    }\n",
       "\n",
       "    .dataframe thead th {\n",
       "        text-align: right;\n",
       "    }\n",
       "</style>\n",
       "<table border=\"1\" class=\"dataframe\">\n",
       "  <thead>\n",
       "    <tr style=\"text-align: right;\">\n",
       "      <th></th>\n",
       "      <th>2</th>\n",
       "    </tr>\n",
       "  </thead>\n",
       "  <tbody>\n",
       "    <tr>\n",
       "      <th>1</th>\n",
       "      <td>1.87378009108539</td>\n",
       "    </tr>\n",
       "    <tr>\n",
       "      <th>2</th>\n",
       "      <td>4.99999999999691</td>\n",
       "    </tr>\n",
       "    <tr>\n",
       "      <th>3</th>\n",
       "      <td>449.707221860490</td>\n",
       "    </tr>\n",
       "    <tr>\n",
       "      <th>7</th>\n",
       "      <td>-1.87378009108539</td>\n",
       "    </tr>\n",
       "    <tr>\n",
       "      <th>8</th>\n",
       "      <td>-4.99999999999691</td>\n",
       "    </tr>\n",
       "    <tr>\n",
       "      <th>9</th>\n",
       "      <td>750.292778138770</td>\n",
       "    </tr>\n",
       "  </tbody>\n",
       "</table>\n",
       "</div>"
      ],
      "text/plain": [
       "                   2\n",
       "1   1.87378009108539\n",
       "2   4.99999999999691\n",
       "3   449.707221860490\n",
       "7  -1.87378009108539\n",
       "8  -4.99999999999691\n",
       "9   750.292778138770"
      ]
     },
     "metadata": {},
     "output_type": "display_data"
    }
   ],
   "source": [
    "acdc = Rock(inc, iba, ino, True)"
   ]
  },
  {
   "cell_type": "code",
   "execution_count": null,
   "metadata": {},
   "outputs": [],
   "source": []
  }
 ],
 "metadata": {
  "kernelspec": {
   "display_name": "pye",
   "language": "python",
   "name": "python3"
  },
  "language_info": {
   "codemirror_mode": {
    "name": "ipython",
    "version": 3
   },
   "file_extension": ".py",
   "mimetype": "text/x-python",
   "name": "python",
   "nbconvert_exporter": "python",
   "pygments_lexer": "ipython3",
   "version": "3.13.2"
  }
 },
 "nbformat": 4,
 "nbformat_minor": 2
}

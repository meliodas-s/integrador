{
 "cells": [
  {
   "cell_type": "markdown",
   "metadata": {},
   "source": [
    "#### Predimensionado"
   ]
  },
  {
   "cell_type": "code",
   "execution_count": 1,
   "metadata": {},
   "outputs": [],
   "source": [
    "from barriga.modu import Rock\n",
    "import matplotlib.pyplot as plt\n",
    "from plottable import Table\n",
    "import pandas as pd\n",
    "import copy"
   ]
  },
  {
   "cell_type": "code",
   "execution_count": 2,
   "metadata": {},
   "outputs": [],
   "source": [
    "# Fuerzas\n",
    "inc = [\n",
    "\n",
    "\n",
    "    # 1\n",
    "    [0, True],\n",
    "\n",
    "    # 2\n",
    "    [-30, True],\n",
    "\n",
    "    # 3\n",
    "    [-1200, True],\n",
    "\n",
    "    # 4\n",
    "    [0, False],\n",
    "\n",
    "    # 5\n",
    "    [0, False],\n",
    "\n",
    "    # 6\n",
    "    [0, False],\n",
    "\n",
    "    # 7\n",
    "    [0, False],\n",
    "\n",
    "    # 8\n",
    "    [0, False],\n",
    "\n",
    "    # 9\n",
    "    [0, False],\n",
    "]\n",
    "\n",
    "# bar,noi,nof,are,mod,iner (pulg, kip)\n",
    "iba = [\n",
    "    [1, 1, 2, 12, 29e3, 600],\n",
    "    [2, 2, 3, 12, 29e3, 600]\n",
    "]\n",
    "\n",
    "# nod,imn,ifx,ify,cox,coy\n",
    "ino = [\n",
    "    [1, 6, 4, 5, 0, 0],\n",
    "    [2, 3, 1, 2, 20*12, 15*12],\n",
    "    [3, 9, 7, 8, 40*12, 15*12]\n",
    "]"
   ]
  },
  {
   "cell_type": "code",
   "execution_count": 4,
   "metadata": {},
   "outputs": [
    {
     "name": "stdout",
     "output_type": "stream",
     "text": [
      "\n",
      "\u001b[1;32m\n",
      "Matriz de rigidez\n",
      "\u001b[0m\n"
     ]
    },
    {
     "data": {
      "text/latex": [
       "$\\displaystyle \\left[\\begin{matrix}2195.2 & 553.09 & 696.0 & -745.18 & -553.09 & 696.0 & -1450.0 & 0 & 0\\\\553.09 & 437.65 & 884.5 & -553.09 & -422.55 & -928.0 & 0 & -15.104 & 1812.5\\\\696.0 & 884.5 & 5.22 \\cdot 10^{5} & -696.0 & 928.0 & 1.16 \\cdot 10^{5} & 0 & -1812.5 & 1.45 \\cdot 10^{5}\\\\-745.18 & -553.09 & -696.0 & 745.18 & 553.09 & -696.0 & 0 & 0 & 0\\\\-553.09 & -422.55 & 928.0 & 553.09 & 422.55 & 928.0 & 0 & 0 & 0\\\\696.0 & -928.0 & 1.16 \\cdot 10^{5} & -696.0 & 928.0 & 2.32 \\cdot 10^{5} & 0 & 0 & 0\\\\-1450.0 & 0 & 0 & 0 & 0 & 0 & 1450.0 & 0 & 0\\\\0 & -15.104 & -1812.5 & 0 & 0 & 0 & 0 & 15.104 & -1812.5\\\\0 & 1812.5 & 1.45 \\cdot 10^{5} & 0 & 0 & 0 & 0 & -1812.5 & 2.9 \\cdot 10^{5}\\end{matrix}\\right]$"
      ],
      "text/plain": [
       "Matrix([\n",
       "[ 2195.2,  553.09,   696.0, -745.18, -553.09,   696.0, -1450.0,       0,       0],\n",
       "[ 553.09,  437.65,   884.5, -553.09, -422.55,  -928.0,       0, -15.104,  1812.5],\n",
       "[  696.0,   884.5, 5.22e+5,  -696.0,   928.0, 1.16e+5,       0, -1812.5, 1.45e+5],\n",
       "[-745.18, -553.09,  -696.0,  745.18,  553.09,  -696.0,       0,       0,       0],\n",
       "[-553.09, -422.55,   928.0,  553.09,  422.55,   928.0,       0,       0,       0],\n",
       "[  696.0,  -928.0, 1.16e+5,  -696.0,   928.0, 2.32e+5,       0,       0,       0],\n",
       "[-1450.0,       0,       0,       0,       0,       0,  1450.0,       0,       0],\n",
       "[      0, -15.104, -1812.5,       0,       0,       0,       0,  15.104, -1812.5],\n",
       "[      0,  1812.5, 1.45e+5,       0,       0,       0,       0, -1812.5,  2.9e+5]])"
      ]
     },
     "metadata": {},
     "output_type": "display_data"
    },
    {
     "name": "stdout",
     "output_type": "stream",
     "text": [
      "\n",
      "\u001b[1;32m\n",
      "Matriz de desplazamiento:\n",
      "\u001b[0m\n"
     ]
    },
    {
     "data": {
      "text/latex": [
       "$\\displaystyle \\left[\\begin{matrix}D_{1}\\\\D_{2}\\\\D_{3}\\\\0\\\\0\\\\0\\\\0\\\\0\\\\0\\end{matrix}\\right]$"
      ],
      "text/plain": [
       "Matrix([\n",
       "[D_1],\n",
       "[D_2],\n",
       "[D_3],\n",
       "[  0],\n",
       "[  0],\n",
       "[  0],\n",
       "[  0],\n",
       "[  0],\n",
       "[  0]])"
      ]
     },
     "metadata": {},
     "output_type": "display_data"
    },
    {
     "name": "stdout",
     "output_type": "stream",
     "text": [
      "\n",
      "\u001b[1;32m\n",
      "Soluciones:\n",
      "\u001b[0m\n"
     ]
    },
    {
     "data": {
      "text/latex": [
       "$\\displaystyle \\left[\\begin{matrix}D_{1}\\\\D_{2}\\\\D_{3}\\\\Q_{4}\\\\Q_{5}\\\\Q_{6}\\\\Q_{7}\\\\Q_{8}\\\\Q_{9}\\end{matrix}\\right] = \\left[\\begin{matrix}0.0247273165028765\\\\-0.0954108275167552\\\\-0.0021701519834242\\\\35.8546089291709\\\\24.625498489426\\\\-145.986169855656\\\\-35.8546089291709\\\\5.37450151057402\\\\-487.604162470628\\end{matrix}\\right]$"
      ],
      "text/plain": [
       "Eq(Matrix([\n",
       "[D_1],\n",
       "[D_2],\n",
       "[D_3],\n",
       "[Q_4],\n",
       "[Q_5],\n",
       "[Q_6],\n",
       "[Q_7],\n",
       "[Q_8],\n",
       "[Q_9]]), Matrix([\n",
       "[ 0.0247273165028765],\n",
       "[-0.0954108275167552],\n",
       "[-0.0021701519834242],\n",
       "[   35.8546089291709],\n",
       "[    24.625498489426],\n",
       "[  -145.986169855656],\n",
       "[  -35.8546089291709],\n",
       "[   5.37450151057402],\n",
       "[  -487.604162470628]]))"
      ]
     },
     "metadata": {},
     "output_type": "display_data"
    },
    {
     "name": "stdout",
     "output_type": "stream",
     "text": [
      "\n",
      "\u001b[1;32m\n",
      "Fuerza en barra 1\n",
      "\u001b[0m\n"
     ]
    },
    {
     "data": {
      "text/html": [
       "<div>\n",
       "<style scoped>\n",
       "    .dataframe tbody tr th:only-of-type {\n",
       "        vertical-align: middle;\n",
       "    }\n",
       "\n",
       "    .dataframe tbody tr th {\n",
       "        vertical-align: top;\n",
       "    }\n",
       "\n",
       "    .dataframe thead th {\n",
       "        text-align: right;\n",
       "    }\n",
       "</style>\n",
       "<table border=\"1\" class=\"dataframe\">\n",
       "  <thead>\n",
       "    <tr style=\"text-align: right;\">\n",
       "      <th></th>\n",
       "      <th>1</th>\n",
       "    </tr>\n",
       "  </thead>\n",
       "  <tbody>\n",
       "    <tr>\n",
       "      <th>4</th>\n",
       "      <td>43.4589862369923</td>\n",
       "    </tr>\n",
       "    <tr>\n",
       "      <th>5</th>\n",
       "      <td>-1.81236656596173</td>\n",
       "    </tr>\n",
       "    <tr>\n",
       "      <th>6</th>\n",
       "      <td>-145.986169855656</td>\n",
       "    </tr>\n",
       "    <tr>\n",
       "      <th>1</th>\n",
       "      <td>-43.4589862369923</td>\n",
       "    </tr>\n",
       "    <tr>\n",
       "      <th>2</th>\n",
       "      <td>1.81236656596173</td>\n",
       "    </tr>\n",
       "    <tr>\n",
       "      <th>3</th>\n",
       "      <td>-397.723799932863</td>\n",
       "    </tr>\n",
       "  </tbody>\n",
       "</table>\n",
       "</div>"
      ],
      "text/plain": [
       "                   1\n",
       "4   43.4589862369923\n",
       "5  -1.81236656596173\n",
       "6  -145.986169855656\n",
       "1  -43.4589862369923\n",
       "2   1.81236656596173\n",
       "3  -397.723799932863"
      ]
     },
     "metadata": {},
     "output_type": "display_data"
    },
    {
     "name": "stdout",
     "output_type": "stream",
     "text": [
      "\n",
      "\u001b[1;32m\n",
      "Fuerza en barra 2\n",
      "\u001b[0m\n"
     ]
    },
    {
     "data": {
      "text/html": [
       "<div>\n",
       "<style scoped>\n",
       "    .dataframe tbody tr th:only-of-type {\n",
       "        vertical-align: middle;\n",
       "    }\n",
       "\n",
       "    .dataframe tbody tr th {\n",
       "        vertical-align: top;\n",
       "    }\n",
       "\n",
       "    .dataframe thead th {\n",
       "        text-align: right;\n",
       "    }\n",
       "</style>\n",
       "<table border=\"1\" class=\"dataframe\">\n",
       "  <thead>\n",
       "    <tr style=\"text-align: right;\">\n",
       "      <th></th>\n",
       "      <th>2</th>\n",
       "    </tr>\n",
       "  </thead>\n",
       "  <tbody>\n",
       "    <tr>\n",
       "      <th>1</th>\n",
       "      <td>35.8546089291709</td>\n",
       "    </tr>\n",
       "    <tr>\n",
       "      <th>2</th>\n",
       "      <td>-5.37450151057402</td>\n",
       "    </tr>\n",
       "    <tr>\n",
       "      <th>3</th>\n",
       "      <td>-802.276200067137</td>\n",
       "    </tr>\n",
       "    <tr>\n",
       "      <th>7</th>\n",
       "      <td>-35.8546089291709</td>\n",
       "    </tr>\n",
       "    <tr>\n",
       "      <th>8</th>\n",
       "      <td>5.37450151057402</td>\n",
       "    </tr>\n",
       "    <tr>\n",
       "      <th>9</th>\n",
       "      <td>-487.604162470628</td>\n",
       "    </tr>\n",
       "  </tbody>\n",
       "</table>\n",
       "</div>"
      ],
      "text/plain": [
       "                   2\n",
       "1   35.8546089291709\n",
       "2  -5.37450151057402\n",
       "3  -802.276200067137\n",
       "7  -35.8546089291709\n",
       "8   5.37450151057402\n",
       "9  -487.604162470628"
      ]
     },
     "metadata": {},
     "output_type": "display_data"
    }
   ],
   "source": [
    "acdc = Rock(inc, iba, ino, True)"
   ]
  },
  {
   "cell_type": "code",
   "execution_count": null,
   "metadata": {},
   "outputs": [],
   "source": []
  }
 ],
 "metadata": {
  "kernelspec": {
   "display_name": "pye",
   "language": "python",
   "name": "python3"
  },
  "language_info": {
   "codemirror_mode": {
    "name": "ipython",
    "version": 3
   },
   "file_extension": ".py",
   "mimetype": "text/x-python",
   "name": "python",
   "nbconvert_exporter": "python",
   "pygments_lexer": "ipython3",
   "version": "3.13.2"
  }
 },
 "nbformat": 4,
 "nbformat_minor": 2
}

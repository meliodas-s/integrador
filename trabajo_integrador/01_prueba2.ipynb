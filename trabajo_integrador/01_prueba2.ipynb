{
 "cells": [
  {
   "cell_type": "markdown",
   "metadata": {},
   "source": [
    "#### Predimensionado"
   ]
  },
  {
   "cell_type": "code",
   "execution_count": 1,
   "metadata": {},
   "outputs": [],
   "source": [
    "from barriga.modu import Rock\n",
    "import matplotlib.pyplot as plt\n",
    "from plottable import Table\n",
    "import pandas as pd\n",
    "import copy"
   ]
  },
  {
   "cell_type": "code",
   "execution_count": null,
   "metadata": {},
   "outputs": [],
   "source": [
    "# Fuerzas\n",
    "inc = [\n",
    "\n",
    "\n",
    "    # 1\n",
    "    [0, True],\n",
    "\n",
    "    # 2\n",
    "    [-30, True],\n",
    "\n",
    "    # 3\n",
    "    [-1200, True],\n",
    "\n",
    "    # 4\n",
    "    [0, False],\n",
    "\n",
    "    # 5\n",
    "    [0, False],\n",
    "\n",
    "    # 6\n",
    "    [0, False],\n",
    "\n",
    "    # 7\n",
    "    [0, False],\n",
    "\n",
    "    # 8\n",
    "    [0, False],\n",
    "\n",
    "    # 9\n",
    "    [0, False],\n",
    "]\n",
    "\n",
    "# bar,noi,nof,are,mod,iner (pulg, kip)\n",
    "iba = [\n",
    "    [1, 1, 2, 12, 29e3, 600],\n",
    "    [2, 2, 3, 12, 29e3, 600]\n",
    "]\n",
    "\n",
    "# nod,imn,ifx,ify,cox,coy\n",
    "ino = [\n",
    "    [1, 6, 4, 5, 0, 0],\n",
    "    [2, 3, 1, 2, 20*12, 15*12],\n",
    "    [3, 9, 7, 8, 40*12, 15*12]\n",
    "]"
   ]
  },
  {
   "cell_type": "code",
   "execution_count": 3,
   "metadata": {},
   "outputs": [
    {
     "data": {
      "text/html": [
       "<div>\n",
       "<style scoped>\n",
       "    .dataframe tbody tr th:only-of-type {\n",
       "        vertical-align: middle;\n",
       "    }\n",
       "\n",
       "    .dataframe tbody tr th {\n",
       "        vertical-align: top;\n",
       "    }\n",
       "\n",
       "    .dataframe thead th {\n",
       "        text-align: right;\n",
       "    }\n",
       "</style>\n",
       "<table border=\"1\" class=\"dataframe\">\n",
       "  <thead>\n",
       "    <tr style=\"text-align: right;\">\n",
       "      <th></th>\n",
       "      <th>4</th>\n",
       "      <th>5</th>\n",
       "      <th>6</th>\n",
       "      <th>1</th>\n",
       "      <th>2</th>\n",
       "      <th>3</th>\n",
       "    </tr>\n",
       "  </thead>\n",
       "  <tbody>\n",
       "    <tr>\n",
       "      <th>4</th>\n",
       "      <td>745.184</td>\n",
       "      <td>553.088000</td>\n",
       "      <td>-696.0</td>\n",
       "      <td>-745.184</td>\n",
       "      <td>-553.088000</td>\n",
       "      <td>-696.0</td>\n",
       "    </tr>\n",
       "    <tr>\n",
       "      <th>5</th>\n",
       "      <td>553.088</td>\n",
       "      <td>422.549333</td>\n",
       "      <td>928.0</td>\n",
       "      <td>-553.088</td>\n",
       "      <td>-422.549333</td>\n",
       "      <td>928.0</td>\n",
       "    </tr>\n",
       "    <tr>\n",
       "      <th>6</th>\n",
       "      <td>-696.000</td>\n",
       "      <td>928.000000</td>\n",
       "      <td>232000.0</td>\n",
       "      <td>696.000</td>\n",
       "      <td>-928.000000</td>\n",
       "      <td>116000.0</td>\n",
       "    </tr>\n",
       "    <tr>\n",
       "      <th>1</th>\n",
       "      <td>-745.184</td>\n",
       "      <td>-553.088000</td>\n",
       "      <td>696.0</td>\n",
       "      <td>745.184</td>\n",
       "      <td>553.088000</td>\n",
       "      <td>696.0</td>\n",
       "    </tr>\n",
       "    <tr>\n",
       "      <th>2</th>\n",
       "      <td>-553.088</td>\n",
       "      <td>-422.549333</td>\n",
       "      <td>-928.0</td>\n",
       "      <td>553.088</td>\n",
       "      <td>422.549333</td>\n",
       "      <td>-928.0</td>\n",
       "    </tr>\n",
       "    <tr>\n",
       "      <th>3</th>\n",
       "      <td>-696.000</td>\n",
       "      <td>928.000000</td>\n",
       "      <td>116000.0</td>\n",
       "      <td>696.000</td>\n",
       "      <td>-928.000000</td>\n",
       "      <td>232000.0</td>\n",
       "    </tr>\n",
       "  </tbody>\n",
       "</table>\n",
       "</div>"
      ],
      "text/plain": [
       "         4           5         6        1           2         3\n",
       "4  745.184  553.088000    -696.0 -745.184 -553.088000    -696.0\n",
       "5  553.088  422.549333     928.0 -553.088 -422.549333     928.0\n",
       "6 -696.000  928.000000  232000.0  696.000 -928.000000  116000.0\n",
       "1 -745.184 -553.088000     696.0  745.184  553.088000     696.0\n",
       "2 -553.088 -422.549333    -928.0  553.088  422.549333    -928.0\n",
       "3 -696.000  928.000000  116000.0  696.000 -928.000000  232000.0"
      ]
     },
     "metadata": {},
     "output_type": "display_data"
    },
    {
     "data": {
      "text/html": [
       "<div>\n",
       "<style scoped>\n",
       "    .dataframe tbody tr th:only-of-type {\n",
       "        vertical-align: middle;\n",
       "    }\n",
       "\n",
       "    .dataframe tbody tr th {\n",
       "        vertical-align: top;\n",
       "    }\n",
       "\n",
       "    .dataframe thead th {\n",
       "        text-align: right;\n",
       "    }\n",
       "</style>\n",
       "<table border=\"1\" class=\"dataframe\">\n",
       "  <thead>\n",
       "    <tr style=\"text-align: right;\">\n",
       "      <th></th>\n",
       "      <th>1</th>\n",
       "      <th>2</th>\n",
       "      <th>3</th>\n",
       "      <th>7</th>\n",
       "      <th>8</th>\n",
       "      <th>9</th>\n",
       "    </tr>\n",
       "  </thead>\n",
       "  <tbody>\n",
       "    <tr>\n",
       "      <th>1</th>\n",
       "      <td>1450.0</td>\n",
       "      <td>0.000000</td>\n",
       "      <td>0.0</td>\n",
       "      <td>-1450.0</td>\n",
       "      <td>0.000000</td>\n",
       "      <td>0.0</td>\n",
       "    </tr>\n",
       "    <tr>\n",
       "      <th>2</th>\n",
       "      <td>0.0</td>\n",
       "      <td>15.104167</td>\n",
       "      <td>1812.5</td>\n",
       "      <td>0.0</td>\n",
       "      <td>-15.104167</td>\n",
       "      <td>1812.5</td>\n",
       "    </tr>\n",
       "    <tr>\n",
       "      <th>3</th>\n",
       "      <td>0.0</td>\n",
       "      <td>1812.500000</td>\n",
       "      <td>290000.0</td>\n",
       "      <td>0.0</td>\n",
       "      <td>-1812.500000</td>\n",
       "      <td>145000.0</td>\n",
       "    </tr>\n",
       "    <tr>\n",
       "      <th>7</th>\n",
       "      <td>-1450.0</td>\n",
       "      <td>0.000000</td>\n",
       "      <td>0.0</td>\n",
       "      <td>1450.0</td>\n",
       "      <td>0.000000</td>\n",
       "      <td>0.0</td>\n",
       "    </tr>\n",
       "    <tr>\n",
       "      <th>8</th>\n",
       "      <td>0.0</td>\n",
       "      <td>-15.104167</td>\n",
       "      <td>-1812.5</td>\n",
       "      <td>0.0</td>\n",
       "      <td>15.104167</td>\n",
       "      <td>-1812.5</td>\n",
       "    </tr>\n",
       "    <tr>\n",
       "      <th>9</th>\n",
       "      <td>0.0</td>\n",
       "      <td>1812.500000</td>\n",
       "      <td>145000.0</td>\n",
       "      <td>0.0</td>\n",
       "      <td>-1812.500000</td>\n",
       "      <td>290000.0</td>\n",
       "    </tr>\n",
       "  </tbody>\n",
       "</table>\n",
       "</div>"
      ],
      "text/plain": [
       "        1            2         3       7            8         9\n",
       "1  1450.0     0.000000       0.0 -1450.0     0.000000       0.0\n",
       "2     0.0    15.104167    1812.5     0.0   -15.104167    1812.5\n",
       "3     0.0  1812.500000  290000.0     0.0 -1812.500000  145000.0\n",
       "7 -1450.0     0.000000       0.0  1450.0     0.000000       0.0\n",
       "8     0.0   -15.104167   -1812.5     0.0    15.104167   -1812.5\n",
       "9     0.0  1812.500000  145000.0     0.0 -1812.500000  290000.0"
      ]
     },
     "metadata": {},
     "output_type": "display_data"
    },
    {
     "name": "stdout",
     "output_type": "stream",
     "text": [
      "\n",
      "\u001b[1;32m\n",
      "Matriz de rigidez\n",
      "\u001b[0m\n"
     ]
    },
    {
     "data": {
      "text/latex": [
       "$\\displaystyle \\left[\\begin{matrix}2195.2 & 553.09 & 696.0 & -745.18 & -553.09 & 696.0 & -1450.0 & 0 & 0\\\\553.09 & 437.65 & 884.5 & -553.09 & -422.55 & -928.0 & 0 & -15.104 & 1812.5\\\\696.0 & 884.5 & 5.22 \\cdot 10^{5} & -696.0 & 928.0 & 1.16 \\cdot 10^{5} & 0 & -1812.5 & 1.45 \\cdot 10^{5}\\\\-745.18 & -553.09 & -696.0 & 745.18 & 553.09 & -696.0 & 0 & 0 & 0\\\\-553.09 & -422.55 & 928.0 & 553.09 & 422.55 & 928.0 & 0 & 0 & 0\\\\696.0 & -928.0 & 1.16 \\cdot 10^{5} & -696.0 & 928.0 & 2.32 \\cdot 10^{5} & 0 & 0 & 0\\\\-1450.0 & 0 & 0 & 0 & 0 & 0 & 1450.0 & 0 & 0\\\\0 & -15.104 & -1812.5 & 0 & 0 & 0 & 0 & 15.104 & -1812.5\\\\0 & 1812.5 & 1.45 \\cdot 10^{5} & 0 & 0 & 0 & 0 & -1812.5 & 2.9 \\cdot 10^{5}\\end{matrix}\\right]$"
      ],
      "text/plain": [
       "Matrix([\n",
       "[ 2195.2,  553.09,   696.0, -745.18, -553.09,   696.0, -1450.0,       0,       0],\n",
       "[ 553.09,  437.65,   884.5, -553.09, -422.55,  -928.0,       0, -15.104,  1812.5],\n",
       "[  696.0,   884.5, 5.22e+5,  -696.0,   928.0, 1.16e+5,       0, -1812.5, 1.45e+5],\n",
       "[-745.18, -553.09,  -696.0,  745.18,  553.09,  -696.0,       0,       0,       0],\n",
       "[-553.09, -422.55,   928.0,  553.09,  422.55,   928.0,       0,       0,       0],\n",
       "[  696.0,  -928.0, 1.16e+5,  -696.0,   928.0, 2.32e+5,       0,       0,       0],\n",
       "[-1450.0,       0,       0,       0,       0,       0,  1450.0,       0,       0],\n",
       "[      0, -15.104, -1812.5,       0,       0,       0,       0,  15.104, -1812.5],\n",
       "[      0,  1812.5, 1.45e+5,       0,       0,       0,       0, -1812.5,  2.9e+5]])"
      ]
     },
     "metadata": {},
     "output_type": "display_data"
    },
    {
     "data": {
      "text/plain": [
       "[D_1, D_2, D_3, Q_4, Q_5, Q_6, Q_7, Q_8, Q_9]"
      ]
     },
     "metadata": {},
     "output_type": "display_data"
    },
    {
     "name": "stdout",
     "output_type": "stream",
     "text": [
      "\n",
      "\u001b[1;32m\n",
      "Matriz de desplazamiento:\n",
      "\u001b[0m\n",
      "⎡D₁⎤\n",
      "⎢  ⎥\n",
      "⎢D₂⎥\n",
      "⎢  ⎥\n",
      "⎢D₃⎥\n",
      "⎢  ⎥\n",
      "⎢0 ⎥\n",
      "⎢  ⎥\n",
      "⎢0 ⎥\n",
      "⎢  ⎥\n",
      "⎢0 ⎥\n",
      "⎢  ⎥\n",
      "⎢0 ⎥\n",
      "⎢  ⎥\n",
      "⎢0 ⎥\n",
      "⎢  ⎥\n",
      "⎣0 ⎦\n",
      "\n",
      "\u001b[1;32m\n",
      "Soluciones:\n",
      "\u001b[0m\n",
      "{D_1: 0.0247273165028765, D_2: -0.0954108275167552, D_3: -0.00217015198342420, Q_4: 35.8546089291709, Q_5: 24.6254984894260, Q_6: -145.986169855656, Q_7: -35.8546089291709, Q_8: 5.37450151057402, Q_9: -487.604162470628}\n",
      "\n",
      "\u001b[1;32m\n",
      "Analisis 1\n",
      "\u001b[0m\n"
     ]
    },
    {
     "data": {
      "text/plain": [
       "array([[ 1.16000000e+03,  0.00000000e+00,  0.00000000e+00,\n",
       "        -1.16000000e+03,  0.00000000e+00,  0.00000000e+00],\n",
       "       [ 0.00000000e+00,  7.73333333e+00,  1.16000000e+03,\n",
       "         0.00000000e+00, -7.73333333e+00,  1.16000000e+03],\n",
       "       [ 0.00000000e+00,  1.16000000e+03,  2.32000000e+05,\n",
       "         0.00000000e+00, -1.16000000e+03,  1.16000000e+05],\n",
       "       [-1.16000000e+03,  0.00000000e+00,  0.00000000e+00,\n",
       "         1.16000000e+03,  0.00000000e+00,  0.00000000e+00],\n",
       "       [ 0.00000000e+00, -7.73333333e+00, -1.16000000e+03,\n",
       "         0.00000000e+00,  7.73333333e+00, -1.16000000e+03],\n",
       "       [ 0.00000000e+00,  1.16000000e+03,  1.16000000e+05,\n",
       "         0.00000000e+00, -1.16000000e+03,  2.32000000e+05]])"
      ]
     },
     "metadata": {},
     "output_type": "display_data"
    },
    {
     "data": {
      "text/plain": [
       "array([[ 0.8,  0.6,  0. ,  0. ,  0. ,  0. ],\n",
       "       [-0.6,  0.8,  0. ,  0. ,  0. ,  0. ],\n",
       "       [ 0. ,  0. ,  1. ,  0. ,  0. ,  0. ],\n",
       "       [ 0. ,  0. ,  0. ,  0.8,  0.6,  0. ],\n",
       "       [ 0. ,  0. ,  0. , -0.6,  0.8,  0. ],\n",
       "       [ 0. ,  0. ,  0. ,  0. ,  0. ,  1. ]])"
      ]
     },
     "metadata": {},
     "output_type": "display_data"
    },
    {
     "data": {
      "text/plain": [
       "array([0, 0, 0, 0.0247273165028765, -0.0954108275167552,\n",
       "       -0.00217015198342420], dtype=object)"
      ]
     },
     "metadata": {},
     "output_type": "display_data"
    },
    {
     "data": {
      "text/plain": [
       "''"
      ]
     },
     "metadata": {},
     "output_type": "display_data"
    },
    {
     "name": "stdout",
     "output_type": "stream",
     "text": [
      "\n",
      "\u001b[1;32m\n",
      "Fuerza en barra 1\n",
      "\u001b[0m\n"
     ]
    },
    {
     "data": {
      "text/html": [
       "<div>\n",
       "<style scoped>\n",
       "    .dataframe tbody tr th:only-of-type {\n",
       "        vertical-align: middle;\n",
       "    }\n",
       "\n",
       "    .dataframe tbody tr th {\n",
       "        vertical-align: top;\n",
       "    }\n",
       "\n",
       "    .dataframe thead th {\n",
       "        text-align: right;\n",
       "    }\n",
       "</style>\n",
       "<table border=\"1\" class=\"dataframe\">\n",
       "  <thead>\n",
       "    <tr style=\"text-align: right;\">\n",
       "      <th></th>\n",
       "      <th>1</th>\n",
       "    </tr>\n",
       "  </thead>\n",
       "  <tbody>\n",
       "    <tr>\n",
       "      <th>4</th>\n",
       "      <td>43.4589862369923</td>\n",
       "    </tr>\n",
       "    <tr>\n",
       "      <th>5</th>\n",
       "      <td>-1.81236656596173</td>\n",
       "    </tr>\n",
       "    <tr>\n",
       "      <th>6</th>\n",
       "      <td>-145.986169855656</td>\n",
       "    </tr>\n",
       "    <tr>\n",
       "      <th>1</th>\n",
       "      <td>-43.4589862369923</td>\n",
       "    </tr>\n",
       "    <tr>\n",
       "      <th>2</th>\n",
       "      <td>1.81236656596173</td>\n",
       "    </tr>\n",
       "    <tr>\n",
       "      <th>3</th>\n",
       "      <td>-397.723799932863</td>\n",
       "    </tr>\n",
       "  </tbody>\n",
       "</table>\n",
       "</div>"
      ],
      "text/plain": [
       "                   1\n",
       "4   43.4589862369923\n",
       "5  -1.81236656596173\n",
       "6  -145.986169855656\n",
       "1  -43.4589862369923\n",
       "2   1.81236656596173\n",
       "3  -397.723799932863"
      ]
     },
     "metadata": {},
     "output_type": "display_data"
    },
    {
     "name": "stdout",
     "output_type": "stream",
     "text": [
      "\n",
      "\u001b[1;32m\n",
      "Analisis 2\n",
      "\u001b[0m\n"
     ]
    },
    {
     "data": {
      "text/plain": [
       "array([[ 1.45000000e+03,  0.00000000e+00,  0.00000000e+00,\n",
       "        -1.45000000e+03,  0.00000000e+00,  0.00000000e+00],\n",
       "       [ 0.00000000e+00,  1.51041667e+01,  1.81250000e+03,\n",
       "         0.00000000e+00, -1.51041667e+01,  1.81250000e+03],\n",
       "       [ 0.00000000e+00,  1.81250000e+03,  2.90000000e+05,\n",
       "         0.00000000e+00, -1.81250000e+03,  1.45000000e+05],\n",
       "       [-1.45000000e+03,  0.00000000e+00,  0.00000000e+00,\n",
       "         1.45000000e+03,  0.00000000e+00,  0.00000000e+00],\n",
       "       [ 0.00000000e+00, -1.51041667e+01, -1.81250000e+03,\n",
       "         0.00000000e+00,  1.51041667e+01, -1.81250000e+03],\n",
       "       [ 0.00000000e+00,  1.81250000e+03,  1.45000000e+05,\n",
       "         0.00000000e+00, -1.81250000e+03,  2.90000000e+05]])"
      ]
     },
     "metadata": {},
     "output_type": "display_data"
    },
    {
     "data": {
      "text/plain": [
       "array([[ 1.,  0.,  0.,  0.,  0.,  0.],\n",
       "       [-0.,  1.,  0.,  0.,  0.,  0.],\n",
       "       [ 0.,  0.,  1.,  0.,  0.,  0.],\n",
       "       [ 0.,  0.,  0.,  1.,  0.,  0.],\n",
       "       [ 0.,  0.,  0., -0.,  1.,  0.],\n",
       "       [ 0.,  0.,  0.,  0.,  0.,  1.]])"
      ]
     },
     "metadata": {},
     "output_type": "display_data"
    },
    {
     "data": {
      "text/plain": [
       "array([0.0247273165028765, -0.0954108275167552, -0.00217015198342420, 0,\n",
       "       0, 0], dtype=object)"
      ]
     },
     "metadata": {},
     "output_type": "display_data"
    },
    {
     "data": {
      "text/plain": [
       "''"
      ]
     },
     "metadata": {},
     "output_type": "display_data"
    },
    {
     "name": "stdout",
     "output_type": "stream",
     "text": [
      "\n",
      "\u001b[1;32m\n",
      "Fuerza en barra 2\n",
      "\u001b[0m\n"
     ]
    },
    {
     "data": {
      "text/html": [
       "<div>\n",
       "<style scoped>\n",
       "    .dataframe tbody tr th:only-of-type {\n",
       "        vertical-align: middle;\n",
       "    }\n",
       "\n",
       "    .dataframe tbody tr th {\n",
       "        vertical-align: top;\n",
       "    }\n",
       "\n",
       "    .dataframe thead th {\n",
       "        text-align: right;\n",
       "    }\n",
       "</style>\n",
       "<table border=\"1\" class=\"dataframe\">\n",
       "  <thead>\n",
       "    <tr style=\"text-align: right;\">\n",
       "      <th></th>\n",
       "      <th>2</th>\n",
       "    </tr>\n",
       "  </thead>\n",
       "  <tbody>\n",
       "    <tr>\n",
       "      <th>1</th>\n",
       "      <td>35.8546089291709</td>\n",
       "    </tr>\n",
       "    <tr>\n",
       "      <th>2</th>\n",
       "      <td>-5.37450151057402</td>\n",
       "    </tr>\n",
       "    <tr>\n",
       "      <th>3</th>\n",
       "      <td>-802.276200067137</td>\n",
       "    </tr>\n",
       "    <tr>\n",
       "      <th>7</th>\n",
       "      <td>-35.8546089291709</td>\n",
       "    </tr>\n",
       "    <tr>\n",
       "      <th>8</th>\n",
       "      <td>5.37450151057402</td>\n",
       "    </tr>\n",
       "    <tr>\n",
       "      <th>9</th>\n",
       "      <td>-487.604162470628</td>\n",
       "    </tr>\n",
       "  </tbody>\n",
       "</table>\n",
       "</div>"
      ],
      "text/plain": [
       "                   2\n",
       "1   35.8546089291709\n",
       "2  -5.37450151057402\n",
       "3  -802.276200067137\n",
       "7  -35.8546089291709\n",
       "8   5.37450151057402\n",
       "9  -487.604162470628"
      ]
     },
     "metadata": {},
     "output_type": "display_data"
    }
   ],
   "source": [
    "acdc = Rock(inc, iba, ino, True)"
   ]
  },
  {
   "cell_type": "code",
   "execution_count": null,
   "metadata": {},
   "outputs": [],
   "source": []
  }
 ],
 "metadata": {
  "kernelspec": {
   "display_name": "pye",
   "language": "python",
   "name": "python3"
  },
  "language_info": {
   "codemirror_mode": {
    "name": "ipython",
    "version": 3
   },
   "file_extension": ".py",
   "mimetype": "text/x-python",
   "name": "python",
   "nbconvert_exporter": "python",
   "pygments_lexer": "ipython3",
   "version": "3.13.2"
  }
 },
 "nbformat": 4,
 "nbformat_minor": 2
}

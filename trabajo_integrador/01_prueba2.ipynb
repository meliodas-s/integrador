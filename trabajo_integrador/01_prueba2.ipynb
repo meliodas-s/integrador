{
 "cells": [
  {
   "cell_type": "markdown",
   "metadata": {},
   "source": [
    "#### Predimensionado"
   ]
  },
  {
   "cell_type": "code",
   "execution_count": 1,
   "metadata": {},
   "outputs": [],
   "source": [
    "from barriga.modu import Rock\n",
    "import matplotlib.pyplot as plt\n",
    "from plottable import Table\n",
    "import pandas as pd\n",
    "import copy"
   ]
  },
  {
   "cell_type": "code",
   "execution_count": 2,
   "metadata": {},
   "outputs": [],
   "source": [
    "# Fuerzas\n",
    "inc = [\n",
    "\n",
    "\n",
    "    # 1\n",
    "    [0, True],\n",
    "\n",
    "    # 2\n",
    "    [-30, True],\n",
    "\n",
    "    # 3\n",
    "    [-1200, True],\n",
    "\n",
    "    # 4\n",
    "    [0, False],\n",
    "\n",
    "    # 5\n",
    "    [0, False],\n",
    "\n",
    "    # 6\n",
    "    [0, False],\n",
    "\n",
    "    # 7\n",
    "    [0, False],\n",
    "\n",
    "    # 8\n",
    "    [0, False],\n",
    "\n",
    "    # 9\n",
    "    [0, False],\n",
    "]\n",
    "\n",
    "# bar,noi,nof,are,mod,iner (pulg, kip)\n",
    "iba = [\n",
    "    [1, 1, 2, 12, 29e3, 600],\n",
    "    [2, 2, 3, 12, 29e3, 600]\n",
    "]\n",
    "\n",
    "# nod,imn,ifx,ify,cox,coy\n",
    "ino = [\n",
    "    [1, 6, 4, 5, 0, 0],\n",
    "    [2, 3, 1, 2, 20*12, 15*12],\n",
    "    [3, 9, 7, 8, 40*12, 15*12]\n",
    "]\n",
    "\n",
    "# Cargas (bar, tipo(1:lin, 2:tri), datos(q))\n",
    "car = [\n",
    "    [2, 1, 3/12]\n",
    "]"
   ]
  },
  {
   "cell_type": "code",
   "execution_count": 3,
   "metadata": {},
   "outputs": [
    {
     "name": "stdout",
     "output_type": "stream",
     "text": [
      "0.25\n",
      "mlf: -487.6041624706277, mic: 802.2762000671366\n",
      "lar240.0\n",
      "802.276200067137 - 5.37450151057402*x\n",
      "-0.125*x**2 + 30.0*x - 1200.0\n",
      "-0.125*x**2 + 24.625498489426*x - 397.723799932863\n"
     ]
    }
   ],
   "source": [
    "acdc = Rock(inc, iba, ino, car, pri=False)"
   ]
  },
  {
   "cell_type": "code",
   "execution_count": null,
   "metadata": {},
   "outputs": [],
   "source": []
  },
  {
   "cell_type": "code",
   "execution_count": null,
   "metadata": {},
   "outputs": [],
   "source": []
  }
 ],
 "metadata": {
  "kernelspec": {
   "display_name": "pye",
   "language": "python",
   "name": "python3"
  },
  "language_info": {
   "codemirror_mode": {
    "name": "ipython",
    "version": 3
   },
   "file_extension": ".py",
   "mimetype": "text/x-python",
   "name": "python",
   "nbconvert_exporter": "python",
   "pygments_lexer": "ipython3",
   "version": "3.13.2"
  }
 },
 "nbformat": 4,
 "nbformat_minor": 2
}

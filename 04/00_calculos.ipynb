{
 "cells": [
  {
   "cell_type": "code",
   "execution_count": 1,
   "metadata": {},
   "outputs": [],
   "source": [
    "w = 2\n",
    "l = 24"
   ]
  },
  {
   "cell_type": "code",
   "execution_count": 2,
   "metadata": {},
   "outputs": [
    {
     "data": {
      "text/plain": [
       "144.0"
      ]
     },
     "execution_count": 2,
     "metadata": {},
     "output_type": "execute_result"
    }
   ],
   "source": [
    "(w*l**2)/8"
   ]
  },
  {
   "cell_type": "code",
   "execution_count": 3,
   "metadata": {},
   "outputs": [
    {
     "data": {
      "text/plain": [
       "18.0"
      ]
     },
     "execution_count": 3,
     "metadata": {},
     "output_type": "execute_result"
    }
   ],
   "source": [
    "p = 12\n",
    "l = 8\n",
    "3*p*l/16"
   ]
  },
  {
   "cell_type": "code",
   "execution_count": 6,
   "metadata": {},
   "outputs": [
    {
     "data": {
      "text/plain": [
       "23.625"
      ]
     },
     "execution_count": 6,
     "metadata": {},
     "output_type": "execute_result"
    }
   ],
   "source": [
    "(12/(32**2))*(4**2*28+28**2*4/2)"
   ]
  },
  {
   "cell_type": "code",
   "execution_count": null,
   "metadata": {},
   "outputs": [
    {
     "data": {
      "text/plain": [
       "12.0"
      ]
     },
     "execution_count": 13,
     "metadata": {},
     "output_type": "execute_result"
    }
   ],
   "source": [
    "12*4**2*4/(8**2)"
   ]
  },
  {
   "cell_type": "code",
   "execution_count": 16,
   "metadata": {},
   "outputs": [
    {
     "data": {
      "text/plain": [
       "84.0"
      ]
     },
     "execution_count": 16,
     "metadata": {},
     "output_type": "execute_result"
    }
   ],
   "source": [
    "2*24**2/12-12"
   ]
  },
  {
   "cell_type": "code",
   "execution_count": 21,
   "metadata": {},
   "outputs": [
    {
     "data": {
      "text/plain": [
       "array([143.99969724,   1.5000319 ,   7.50039915,  -9.00043104])"
      ]
     },
     "execution_count": 21,
     "metadata": {},
     "output_type": "execute_result"
    }
   ],
   "source": [
    "import numpy as np\n",
    "\n",
    "# Valores dados de D1 y D2\n",
    "D1 = -0.4673e-3  # en pulgadas\n",
    "D2 = 1.40203e-3  # en pulgadas\n",
    "\n",
    "# Matriz de rigidez (solo las filas que producen Q3, Q4, Q5, Q6)\n",
    "# Solo necesitamos las filas de la matriz que corresponden a los códigos 3, 4, 5 y 6\n",
    "\n",
    "# Matriz extraída de la imagen (filas 3 a 6 y columnas 1 y 2)\n",
    "K = np.array([\n",
    "    [0, 102708],\n",
    "    [0, 1069.9],\n",
    "    [9628.91, 8559.01],\n",
    "    [-9628.91, -9628.91]\n",
    "])\n",
    "\n",
    "# Vector de desplazamientos conocidos (D1, D2)\n",
    "D = np.array([D1, D2])\n",
    "\n",
    "# Producto para obtener las reacciones Q3, Q4, Q5, Q6\n",
    "Q = K @ D\n",
    "\n",
    "Q  # Mostramos el resultado en kips (k) y pulgadas"
   ]
  },
  {
   "cell_type": "code",
   "execution_count": null,
   "metadata": {},
   "outputs": [
    {
     "data": {
      "text/plain": [
       "np.float64(11.999974770000001)"
      ]
     },
     "execution_count": 23,
     "metadata": {},
     "output_type": "execute_result"
    }
   ],
   "source": [
    "# (kip*ft)\n",
    "Q[0]/12"
   ]
  },
  {
   "cell_type": "code",
   "execution_count": null,
   "metadata": {},
   "outputs": [
    {
     "data": {
      "text/plain": [
       "np.float64(1.5000318970000002)"
      ]
     },
     "execution_count": 24,
     "metadata": {},
     "output_type": "execute_result"
    }
   ],
   "source": [
    "# Fuerza Q4 o fuerza y en 1 (kip)\n",
    "Q[1]"
   ]
  },
  {
   "cell_type": "code",
   "execution_count": 25,
   "metadata": {},
   "outputs": [
    {
     "data": {
      "text/plain": [
       "np.float64(1.5000318970000002)"
      ]
     },
     "execution_count": 25,
     "metadata": {},
     "output_type": "execute_result"
    }
   ],
   "source": [
    "# Fuerza Q4 o fuerza y en 1 (kip)\n",
    "Q[1]"
   ]
  },
  {
   "cell_type": "code",
   "execution_count": 27,
   "metadata": {},
   "outputs": [
    {
     "data": {
      "text/plain": [
       "37.5"
      ]
     },
     "execution_count": 27,
     "metadata": {},
     "output_type": "execute_result"
    }
   ],
   "source": [
    "24+6+7.5"
   ]
  },
  {
   "cell_type": "code",
   "execution_count": 26,
   "metadata": {},
   "outputs": [
    {
     "data": {
      "text/plain": [
       "1875.0"
      ]
     },
     "execution_count": 26,
     "metadata": {},
     "output_type": "execute_result"
    }
   ],
   "source": [
    "l = 25          # ft\n",
    "q = 3           # k/ft\n",
    "m1 = (q*l**2/12)*12  # k.ft\n",
    "m1"
   ]
  },
  {
   "cell_type": "code",
   "execution_count": 19,
   "metadata": {},
   "outputs": [
    {
     "data": {
      "text/plain": [
       "1200.0"
      ]
     },
     "execution_count": 19,
     "metadata": {},
     "output_type": "execute_result"
    }
   ],
   "source": [
    "l= 20\n",
    "q = 3\n",
    "m2 = (q*l**2/12)*12\n",
    "m2"
   ]
  },
  {
   "cell_type": "code",
   "execution_count": 17,
   "metadata": {},
   "outputs": [
    {
     "data": {
      "text/plain": [
       "675.0"
      ]
     },
     "execution_count": 17,
     "metadata": {},
     "output_type": "execute_result"
    }
   ],
   "source": [
    "m1-m2"
   ]
  },
  {
   "cell_type": "code",
   "execution_count": 40,
   "metadata": {},
   "outputs": [
    {
     "data": {
      "text/plain": [
       "30.0"
      ]
     },
     "execution_count": 40,
     "metadata": {},
     "output_type": "execute_result"
    }
   ],
   "source": [
    "fue =20*3/2\n",
    "fue"
   ]
  },
  {
   "cell_type": "code",
   "execution_count": 43,
   "metadata": {},
   "outputs": [
    {
     "data": {
      "text/plain": [
       "37.5"
      ]
     },
     "execution_count": 43,
     "metadata": {},
     "output_type": "execute_result"
    }
   ],
   "source": [
    "fue = 25*3/2\n",
    "fue"
   ]
  },
  {
   "cell_type": "code",
   "execution_count": 44,
   "metadata": {},
   "outputs": [],
   "source": [
    "import math"
   ]
  },
  {
   "cell_type": "code",
   "execution_count": 108,
   "metadata": {},
   "outputs": [
    {
     "name": "stdout",
     "output_type": "stream",
     "text": [
      "-30.0\n",
      "22.5\n",
      "-60.0\n",
      "22.5\n"
     ]
    }
   ],
   "source": [
    "alp = math.atan(15/20)\n",
    "fuy = -fue*math.cos(alp)\n",
    "fux = fue*math.sin(alp)\n",
    "\n",
    "print(fuy)\n",
    "print(fux)\n",
    "\n",
    "fyt = fuy-30\n",
    "fxt = fux\n",
    "\n",
    "print(fyt)\n",
    "print(fxt)"
   ]
  },
  {
   "cell_type": "code",
   "execution_count": 109,
   "metadata": {},
   "outputs": [
    {
     "data": {
      "text/plain": [
       "37.5"
      ]
     },
     "execution_count": 109,
     "metadata": {},
     "output_type": "execute_result"
    }
   ],
   "source": [
    "fu2 = 3*25/2\n",
    "fu2"
   ]
  },
  {
   "cell_type": "code",
   "execution_count": 110,
   "metadata": {},
   "outputs": [
    {
     "name": "stdout",
     "output_type": "stream",
     "text": [
      "F2X=-30.0 F2Y=-22.5\n"
     ]
    }
   ],
   "source": [
    "fu2y = -fu2*math.sin(alp)\n",
    "fu2x = -fu2*math.cos(alp)\n",
    "print(f'F2X={fu2x} F2Y={fu2y}')"
   ]
  },
  {
   "cell_type": "code",
   "execution_count": 111,
   "metadata": {},
   "outputs": [
    {
     "name": "stdout",
     "output_type": "stream",
     "text": [
      "FtX=-7.5 FtY=-82.5\n"
     ]
    }
   ],
   "source": [
    "fyt = fyt + fu2y\n",
    "fxt = fxt + fu2x\n",
    "print(f'FtX={fxt} FtY={fyt}')\n"
   ]
  },
  {
   "cell_type": "code",
   "execution_count": 114,
   "metadata": {},
   "outputs": [
    {
     "name": "stdout",
     "output_type": "stream",
     "text": [
      "-1187.52\n",
      "-1187.54\n"
     ]
    }
   ],
   "source": [
    "print(\n",
    "    687.44\n",
    "    - 1874.96)\n",
    "print(\n",
    "    12.44\n",
    "    - 1199.98)"
   ]
  },
  {
   "cell_type": "code",
   "execution_count": 17,
   "metadata": {},
   "outputs": [
    {
     "name": "stdout",
     "output_type": "stream",
     "text": [
      "FEMab=50.0   FEMba=33.333333333333336\n"
     ]
    }
   ],
   "source": [
    "q = 10\n",
    "l = 10\n",
    "\n",
    "femab = q*l**2/20\n",
    "femba = q*l**2/30\n",
    "print(f'FEMab={femab}   FEMba={femba}')"
   ]
  },
  {
   "cell_type": "code",
   "execution_count": 18,
   "metadata": {},
   "outputs": [
    {
     "data": {
      "text/plain": [
       "35.0"
      ]
     },
     "execution_count": 18,
     "metadata": {},
     "output_type": "execute_result"
    }
   ],
   "source": [
    "q*l*(7/20)"
   ]
  },
  {
   "cell_type": "code",
   "execution_count": 21,
   "metadata": {},
   "outputs": [
    {
     "data": {
      "text/plain": [
       "'0.166666666666667 x^{3} - 5 x^{2} + 35.0 x - 50.0'"
      ]
     },
     "execution_count": 21,
     "metadata": {},
     "output_type": "execute_result"
    }
   ],
   "source": [
    "import sympy as sp\n",
    "\n",
    "x = sp.symbols('x')\n",
    "expr = -q*(l**2)/20 + (7/20) * q * l * x - x**2 * q/2 + q * x**3 * (1/(2*l)- 1/(3*l))\n",
    "sp.latex(expr)"
   ]
  },
  {
   "cell_type": "markdown",
   "metadata": {},
   "source": [
    "### Tp2 - Estructura 2"
   ]
  },
  {
   "cell_type": "code",
   "execution_count": 4,
   "metadata": {},
   "outputs": [
    {
     "data": {
      "text/plain": [
       "50.0"
      ]
     },
     "execution_count": 4,
     "metadata": {},
     "output_type": "execute_result"
    }
   ],
   "source": [
    "mod = 2000 # N/m2\n",
    "\n",
    "# Paso a MN/m2\n",
    "f1 = 10*10/2\n",
    "f1"
   ]
  },
  {
   "cell_type": "code",
   "execution_count": 5,
   "metadata": {},
   "outputs": [
    {
     "data": {
      "text/plain": [
       "25.0"
      ]
     },
     "execution_count": 5,
     "metadata": {},
     "output_type": "execute_result"
    }
   ],
   "source": [
    "f2 = 10*5/2\n",
    "f2"
   ]
  },
  {
   "cell_type": "code",
   "execution_count": 9,
   "metadata": {},
   "outputs": [
    {
     "name": "stdout",
     "output_type": "stream",
     "text": [
      "13.5\n",
      "9.0\n"
     ]
    }
   ],
   "source": [
    "# Hipotesis para viga empotrada(carga triangular)\n",
    "q = 30\n",
    "l = 3\n",
    "ra = f3 =(3/20)*q*l\n",
    "print(f3)\n",
    "\n",
    "# momento en el extremo con menos carga\n",
    "m1 =q*l**2/30\n",
    "print(m1)"
   ]
  },
  {
   "cell_type": "code",
   "execution_count": 11,
   "metadata": {},
   "outputs": [
    {
     "name": "stdout",
     "output_type": "stream",
     "text": [
      "20.833333333333332\n"
     ]
    }
   ],
   "source": [
    "# Calculo de momentos\n",
    "q = 10\n",
    "l = 5\n",
    "m2 = q*l**2/12\n",
    "print(m2)"
   ]
  },
  {
   "cell_type": "code",
   "execution_count": 30,
   "metadata": {},
   "outputs": [
    {
     "data": {
      "text/plain": [
       "11.833333333333332"
      ]
     },
     "execution_count": 30,
     "metadata": {},
     "output_type": "execute_result"
    }
   ],
   "source": [
    "m2-m1"
   ]
  },
  {
   "cell_type": "code",
   "execution_count": 12,
   "metadata": {},
   "outputs": [
    {
     "name": "stdout",
     "output_type": "stream",
     "text": [
      "83.33333333333333\n"
     ]
    }
   ],
   "source": [
    "# Calculo de momentos\n",
    "q = 10\n",
    "l = 10\n",
    "m3 = q*l**2/12\n",
    "print(m3)"
   ]
  },
  {
   "cell_type": "code",
   "execution_count": 29,
   "metadata": {},
   "outputs": [
    {
     "data": {
      "text/plain": [
       "62.5"
      ]
     },
     "execution_count": 29,
     "metadata": {},
     "output_type": "execute_result"
    }
   ],
   "source": [
    "m3-m2"
   ]
  },
  {
   "cell_type": "code",
   "execution_count": 28,
   "metadata": {},
   "outputs": [
    {
     "name": "stdout",
     "output_type": "stream",
     "text": [
      "0.000999999999990564\n",
      "0.0030000000000001137\n",
      "0.0\n"
     ]
    }
   ],
   "source": [
    "print(\n",
    "    -83.333+4.713\n",
    "    +78.621\n",
    ")\n",
    "print(\n",
    "    -83.33+28.893\n",
    "    +54.44\n",
    ")\n",
    "\n",
    "print(\n",
    "    -20.833+20.833\n",
    "    +0\n",
    ")"
   ]
  },
  {
   "cell_type": "code",
   "execution_count": null,
   "metadata": {},
   "outputs": [],
   "source": []
  }
 ],
 "metadata": {
  "kernelspec": {
   "display_name": "pye",
   "language": "python",
   "name": "python3"
  },
  "language_info": {
   "codemirror_mode": {
    "name": "ipython",
    "version": 3
   },
   "file_extension": ".py",
   "mimetype": "text/x-python",
   "name": "python",
   "nbconvert_exporter": "python",
   "pygments_lexer": "ipython3",
   "version": "3.13.2"
  }
 },
 "nbformat": 4,
 "nbformat_minor": 2
}
